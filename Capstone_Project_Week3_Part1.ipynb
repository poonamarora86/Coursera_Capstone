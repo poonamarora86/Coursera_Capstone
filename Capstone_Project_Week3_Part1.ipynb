{
 "cells": [
  {
   "cell_type": "markdown",
   "metadata": {},
   "source": [
    "# Capstone project Week 3"
   ]
  },
  {
   "cell_type": "code",
   "execution_count": 279,
   "metadata": {},
   "outputs": [],
   "source": [
    "import requests\n",
    "import pandas as pd"
   ]
  },
  {
   "cell_type": "markdown",
   "metadata": {},
   "source": [
    "#### Let's get the data using requests package and `get` http call"
   ]
  },
  {
   "cell_type": "code",
   "execution_count": 283,
   "metadata": {
    "scrolled": false
   },
   "outputs": [],
   "source": [
    "response = requests.get('https://en.wikipedia.org/wiki/List_of_postal_codes_of_Canada:_M')"
   ]
  },
  {
   "cell_type": "code",
   "execution_count": null,
   "metadata": {},
   "outputs": [],
   "source": [
    "#### I am going to use lxml for parsing the html"
   ]
  },
  {
   "cell_type": "code",
   "execution_count": 190,
   "metadata": {},
   "outputs": [],
   "source": [
    "import lxml.html as lh\n",
    "xml = lh.fromstring(response.content)"
   ]
  },
  {
   "cell_type": "code",
   "execution_count": null,
   "metadata": {},
   "outputs": [],
   "source": [
    "#### I am going to find all tables on that wiki page and then select the first table.\n",
    "#### Assumption here is that first table is always the data. "
   ]
  },
  {
   "cell_type": "code",
   "execution_count": 191,
   "metadata": {},
   "outputs": [],
   "source": [
    "table = xml.findall(\".//*/table\")"
   ]
  },
  {
   "cell_type": "code",
   "execution_count": 280,
   "metadata": {},
   "outputs": [],
   "source": [
    "#### Get all trs from the table\n",
    "#### which has header and rows\n",
    "#### we then get contents from all those rows and create a list of lists"
   ]
  },
  {
   "cell_type": "code",
   "execution_count": 284,
   "metadata": {},
   "outputs": [],
   "source": [
    "header, *rows = table[0].xpath(\"tbody/tr\")\n",
    "hdr = []\n",
    "for h in header.xpath(\"th\"):\n",
    "    hdr.append(h.text_content().strip())\n",
    "\n",
    "newrows = []\n",
    "    \n",
    "for row in rows:\n",
    "    x = []\n",
    "    for column in row.xpath(\"td\"):\n",
    "        x.append(column.text_content().strip())\n",
    "    newrows.append(x)\n",
    " \n"
   ]
  },
  {
   "cell_type": "code",
   "execution_count": 281,
   "metadata": {},
   "outputs": [],
   "source": [
    "#### we then create a dataframe from the result above and process it as requested.\n",
    "#### 1. We filter out all the rows those has Borough is 'Not assigned'\n",
    "#### 2. Then those with Neighbourhood not assigned we put Borough as Neighbourhood\n",
    "#### 3. Then we group by Postcode and concatenate all Neighbourhoods (comma separated)"
   ]
  },
  {
   "cell_type": "code",
   "execution_count": 245,
   "metadata": {},
   "outputs": [],
   "source": [
    "dataframe = pd.DataFrame(newrows)\n",
    "dataframe.columns = hdr\n",
    "dataframe.head()\n",
    "filtered  = dataframe[dataframe.Borough != \"Not assigned\"]\n",
    "def handle_non_assigned(row):\n",
    "#    print(row)\n",
    "    if(row.Neighbourhood == \"Not assigned\"):\n",
    "        row[\"Neighbourhood\"] = row[\"Borough\"]\n",
    "        return row\n",
    "    else:\n",
    "        return row\n",
    "    \n",
    "filtered = filtered.apply(handle_non_assigned, axis=1)\n",
    "filtered\n",
    "x = filtered.groupby([\"Postcode\", \"Borough\"])[\"Neighbourhood\"].apply(lambda x: \",\".join(x)).reset_index()\n"
   ]
  },
  {
   "cell_type": "code",
   "execution_count": null,
   "metadata": {},
   "outputs": [],
   "source": [
    "#### We get 103 rows in total"
   ]
  },
  {
   "cell_type": "code",
   "execution_count": 250,
   "metadata": {},
   "outputs": [
    {
     "data": {
      "text/plain": [
       "(103, 3)"
      ]
     },
     "execution_count": 250,
     "metadata": {},
     "output_type": "execute_result"
    }
   ],
   "source": [
    "x.shape"
   ]
  }
 ],
 "metadata": {
  "kernelspec": {
   "display_name": "Python 3",
   "language": "python",
   "name": "python3"
  },
  "language_info": {
   "codemirror_mode": {
    "name": "ipython",
    "version": 3
   },
   "file_extension": ".py",
   "mimetype": "text/x-python",
   "name": "python",
   "nbconvert_exporter": "python",
   "pygments_lexer": "ipython3",
   "version": "3.6.5"
  }
 },
 "nbformat": 4,
 "nbformat_minor": 2
}
